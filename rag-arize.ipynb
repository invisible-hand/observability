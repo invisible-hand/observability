{
 "cells": [
  {
   "cell_type": "code",
   "execution_count": 1,
   "id": "506943c8-465f-4cf3-8410-2d1690b46327",
   "metadata": {},
   "outputs": [],
   "source": [
    "\n",
    "import os\n",
    "from openai import OpenAI\n",
    "import pandas as pd\n",
    "import json\n",
    "import duckdb\n",
    "from pydantic import BaseModel, Field\n",
    "from IPython.display import Markdown\n",
    "from dotenv import load_dotenv\n"
   ]
  },
  {
   "cell_type": "code",
   "execution_count": 2,
   "id": "dccaff2b-302a-485e-9e27-a4e30925186b",
   "metadata": {},
   "outputs": [],
   "source": [
    "import phoenix as px\n",
    "from phoenix.otel import register\n",
    "from openinference.instrumentation.openai import OpenAIInstrumentor\n",
    "from openinference.semconv.trace import SpanAttributes\n",
    "from opentelemetry.trace import Status, StatusCode\n",
    "from openinference.instrumentation import TracerProvider\n"
   ]
  },
  {
   "cell_type": "code",
   "execution_count": 3,
   "id": "067e5f05-25aa-4391-9647-5392c8e1966b",
   "metadata": {},
   "outputs": [],
   "source": [
    "# initialize the OpenAI client\n",
    "load_dotenv()\n",
    "openai_api_key = os.environ.get(\"OPENAI_API_KEY\")\n",
    "\n",
    "client = OpenAI(api_key=openai_api_key)\n",
    "\n",
    "MODEL = \"gpt-4o-mini\""
   ]
  },
  {
   "cell_type": "code",
   "execution_count": 4,
   "id": "8901a1b2-d34e-4d23-91b2-329a2f4ac7b7",
   "metadata": {},
   "outputs": [],
   "source": [
    "PROJECT_NAME = \"az-tracing-agent\""
   ]
  },
  {
   "cell_type": "code",
   "execution_count": 5,
   "id": "429b0ab2-ba3b-4e71-8316-e9098ea9710b",
   "metadata": {},
   "outputs": [],
   "source": [
    "#get_phoenix_endpoint = os.getenv(\"PHOENIX_COLLECTOR_ENDPOINT\")"
   ]
  },
  {
   "cell_type": "code",
   "execution_count": 6,
   "id": "05dd29d4-d09a-4f3b-b4d4-6a8d2c43dcb5",
   "metadata": {},
   "outputs": [],
   "source": [
    "def get_phoenix_endpoint():\n",
    "    load_dotenv()\n",
    "    phoenix_endpoint = os.getenv(\"PHOENIX_COLLECTOR_ENDPOINT\")\n",
    "    return phoenix_endpoint"
   ]
  },
  {
   "cell_type": "code",
   "execution_count": 7,
   "id": "7f1fddc6-b811-4682-a250-8af58cb940ce",
   "metadata": {},
   "outputs": [
    {
     "name": "stdout",
     "output_type": "stream",
     "text": [
      "🔭 OpenTelemetry Tracing Details 🔭\n",
      "|  Phoenix Project: az-tracing-agent\n",
      "|  Span Processor: SimpleSpanProcessor\n",
      "|  Collector Endpoint: https://app.phoenix.arize.com/v1/traces\n",
      "|  Transport: HTTP + protobuf\n",
      "|  Transport Headers: {'api_key': '****'}\n",
      "|  \n",
      "|  Using a default SpanProcessor. `add_span_processor` will overwrite this default.\n",
      "|  \n",
      "|  ⚠️ WARNING: It is strongly advised to use a BatchSpanProcessor in production environments.\n",
      "|  \n",
      "|  `register` has set this TracerProvider as the global OpenTelemetry default.\n",
      "|  To disable this behavior, call `register` with `set_global_tracer_provider=False`.\n",
      "\n"
     ]
    }
   ],
   "source": [
    "tracer_provider = register(\n",
    "  project_name=PROJECT_NAME, # Default is 'default'\n",
    "  auto_instrument=True\n",
    "    # See 'Trace all calls made to a library' below\n",
    ")"
   ]
  },
  {
   "cell_type": "code",
   "execution_count": 8,
   "id": "227e0634-ae17-41c2-8f3e-1e5ee4db194e",
   "metadata": {},
   "outputs": [],
   "source": [
    "#OpenAIInstrumentor().instrument(tracer_provider = tracer_provider)"
   ]
  },
  {
   "cell_type": "code",
   "execution_count": 9,
   "id": "bc060af9-5707-465e-9200-db10f0b461c1",
   "metadata": {},
   "outputs": [],
   "source": [
    "tracer = tracer_provider.get_tracer(__name__)"
   ]
  },
  {
   "cell_type": "code",
   "execution_count": 10,
   "id": "c87644de-ae6e-42f2-97bf-2bad8b35654a",
   "metadata": {},
   "outputs": [],
   "source": [
    "# define the path to the transactional data\n",
    "TRANSACTION_DATA_FILE_PATH = 'Store_Sales_Price_Elasticity_Promotions_Data.parquet'"
   ]
  },
  {
   "cell_type": "code",
   "execution_count": 11,
   "id": "42518afc-845d-4c7f-a024-00b99194cc92",
   "metadata": {},
   "outputs": [],
   "source": [
    "# prompt template for step 2 of tool 1\n",
    "SQL_GENERATION_PROMPT = \"\"\"\n",
    "Generate an SQL query based on a prompt. Do not reply with anything besides the SQL query.\n",
    "The prompt is: {prompt}\n",
    "\n",
    "The available columns are: {columns}\n",
    "The table name is: {table_name}\n",
    "\"\"\""
   ]
  },
  {
   "cell_type": "code",
   "execution_count": 12,
   "id": "3dc303ce-ba4f-47d5-aaea-067e5ed39a17",
   "metadata": {},
   "outputs": [],
   "source": [
    "# code for step 2 of tool 1\n",
    "def generate_sql_query(prompt: str, columns: list, table_name: str) -> str:\n",
    "    \"\"\"Generate an SQL query based on a prompt\"\"\"\n",
    "    formatted_prompt = SQL_GENERATION_PROMPT.format(prompt=prompt, \n",
    "                                                    columns=columns, \n",
    "                                                    table_name=table_name)\n",
    "\n",
    "    response = client.chat.completions.create(\n",
    "        model=MODEL,\n",
    "        messages=[{\"role\": \"user\", \"content\": formatted_prompt}],\n",
    "    )\n",
    "    \n",
    "    return response.choices[0].message.content"
   ]
  },
  {
   "cell_type": "code",
   "execution_count": 13,
   "id": "7daa2b3a-a9d1-4a7b-9436-65e5ef3cc7e7",
   "metadata": {},
   "outputs": [],
   "source": [
    "# code for tool 1\n",
    "@tracer.tool()\n",
    "def lookup_sales_data(prompt: str) -> str:\n",
    "    \"\"\"Implementation of sales data lookup from parquet file using SQL\"\"\"\n",
    "    try:\n",
    "\n",
    "        # define the table name\n",
    "        table_name = \"sales\"\n",
    "        \n",
    "        # step 1: read the parquet file into a DuckDB table\n",
    "        df = pd.read_parquet(TRANSACTION_DATA_FILE_PATH)\n",
    "        duckdb.sql(f\"CREATE TABLE IF NOT EXISTS {table_name} AS SELECT * FROM df\")\n",
    "\n",
    "        # step 2: generate the SQL code\n",
    "        sql_query = generate_sql_query(prompt, df.columns, table_name)\n",
    "        # clean the response to make sure it only includes the SQL code\n",
    "        sql_query = sql_query.strip()\n",
    "        sql_query = sql_query.replace(\"```sql\", \"\").replace(\"```\", \"\")\n",
    "        \n",
    "        # step 3: execute the SQL query\n",
    "        result = duckdb.sql(sql_query).df()\n",
    "        \n",
    "        return result.to_string()\n",
    "    except Exception as e:\n",
    "        return f\"Error accessing data: {str(e)}\""
   ]
  },
  {
   "cell_type": "code",
   "execution_count": 14,
   "id": "d4a7ab53-412d-4066-89cd-692a7adaa832",
   "metadata": {},
   "outputs": [
    {
     "name": "stdout",
     "output_type": "stream",
     "text": [
      "    Store_Number  SKU_Coded  Product_Class_Code  Sold_Date  Qty_Sold  Total_Sale_Value  On_Promo\n",
      "0           1320    6173050               22875 2021-11-01         1          4.990000         0\n",
      "1           1320    6174250               22875 2021-11-01         1          0.890000         0\n",
      "2           1320    6176200               22975 2021-11-01         2         99.980003         0\n",
      "3           1320    6176800               22800 2021-11-01         1         14.970000         0\n",
      "4           1320    6177250               22975 2021-11-01         1          6.890000         0\n",
      "5           1320    6177300               22800 2021-11-01         1          9.990000         0\n",
      "6           1320    6177350               22800 2021-11-01         2         16.980000         0\n",
      "7           1320    6177700               22875 2021-11-01         1          3.190000         0\n",
      "8           1320    6178000               22875 2021-11-01         2          6.380000         0\n",
      "9           1320    6178250               22800 2021-11-01         1         16.590000         0\n",
      "10          1320    6179250               24400 2021-11-01         1         14.990000         0\n",
      "11          1320    6179300               22800 2021-11-01         2          9.980000         0\n",
      "12          1320    6179400               24400 2021-11-01         2         29.980000         0\n",
      "13          1320    6179450               24400 2021-11-01         1         14.990000         0\n",
      "14          1320    6179500               24400 2021-11-01         1         14.990000         0\n",
      "15          1320    6179750               22800 2021-11-01         2         39.980000         0\n",
      "16          1320    6180550               22975 2021-11-01         1         15.990000         0\n",
      "17          1320    6182050               22975 2021-11-01         1          7.990000         0\n",
      "18          1320    6183750               22850 2021-11-01         3         38.970001         0\n",
      "19          1320    6184100               22975 2021-11-01         3         59.970001         0\n",
      "20          1320    6188550               22950 2021-11-01         2         15.980000         0\n",
      "21          1320    6190050               24425 2021-11-01         5         19.950001         0\n",
      "22          1320    6190150               24425 2021-11-01         1          8.990000         0\n",
      "23          1320    6190200               24425 2021-11-01         1          8.990000         0\n",
      "24          1320    6190250               24425 2021-11-01         1          7.990000         0\n",
      "25          1320    6190350               22950 2021-11-01         1          6.990000         0\n",
      "26          1320    6190400               22950 2021-11-01         1          6.990000         0\n",
      "27          1320    6193750               22875 2021-11-01         1          6.990000         0\n",
      "28          1320    6195350               24375 2021-11-01         1         16.990000         0\n",
      "29          1320    6195800               22850 2021-11-01         3         25.719999         1\n"
     ]
    }
   ],
   "source": [
    "example_data = lookup_sales_data(\"Show me all the sales for store 1320 on November 1st, 2021\")\n",
    "print(example_data)"
   ]
  },
  {
   "cell_type": "code",
   "execution_count": 15,
   "id": "a6447af6-ab20-4011-a46a-aa97da20a162",
   "metadata": {},
   "outputs": [],
   "source": [
    "# Construct prompt based on analysis type and data subset\n",
    "DATA_ANALYSIS_PROMPT = \"\"\"\n",
    "Analyze the following data: {data}\n",
    "Your job is to answer the following question: {prompt}\n",
    "\"\"\""
   ]
  },
  {
   "cell_type": "code",
   "execution_count": 16,
   "id": "0c0f158b-13da-4e83-aca7-568a2b735e08",
   "metadata": {},
   "outputs": [],
   "source": [
    "# code for tool 2\n",
    "@tracer.tool()\n",
    "\n",
    "def analyze_sales_data(prompt: str, data: str) -> str:\n",
    "    \"\"\"Implementation of AI-powered sales data analysis\"\"\"\n",
    "    formatted_prompt = DATA_ANALYSIS_PROMPT.format(data=data, prompt=prompt)\n",
    "\n",
    "    response = client.chat.completions.create(\n",
    "        model=MODEL,\n",
    "        messages=[{\"role\": \"user\", \"content\": formatted_prompt}],\n",
    "    )\n",
    "    \n",
    "    analysis = response.choices[0].message.content\n",
    "    return analysis if analysis else \"No analysis could be generated\""
   ]
  },
  {
   "cell_type": "code",
   "execution_count": 17,
   "id": "977168e3-25ba-4886-8007-fb99d1eeaf6d",
   "metadata": {},
   "outputs": [
    {
     "name": "stdout",
     "output_type": "stream",
     "text": [
      "Analyzing the provided data, we can derive several trends and insights related to product sales for a specific store on a specific date (November 1, 2021). Here's a structured analysis:\n",
      "\n",
      "### Overview of Data\n",
      "1. **Total Records**: There are 30 rows of data, representing sales of various products.\n",
      "2. **Time Frame**: The data only represents sales from a single day (November 1, 2021).\n",
      "3. **Promotions**: The \"On_Promo\" column indicates whether the item was on promotion; most items are not (0), except for one item which is marked as on promotion (1).\n",
      "\n",
      "### Trends and Insights\n",
      "\n",
      "#### 1. **Sales Distribution by Product Class**\n",
      "- The data includes different `Product_Class_Code`s (e.g., 22800, 22975, 24400). Each code appears to represent a different product category.\n",
      "- Observing the quantities sold and total sale values:\n",
      "  - **Highest Sales Values**: SKU 6176200 (Product Class 22975) had the highest total sale value of approximately $99.98.\n",
      "  - **Frequent Products**: Several products from class 22800 sold well, indicating they might be popular items.\n",
      "  \n",
      "#### 2. **Sales Volumes**\n",
      "- The `Qty_Sold` varies from 1 to 5 for different SKUs:\n",
      "  - A few products have a higher quantity sold (like SKU 6190050 with a Qty_Sold of 5), indicating potential bulk purchases.\n",
      "  - 3 units sold of SKU 6183750 and SKU 6184100 show that some products had multiple-unit sales.\n",
      "\n",
      "#### 3. **Total Sale Values**\n",
      "- Sale values range from $3.19 to $99.98, suggesting a mix of low and high-priced items throughout the store:\n",
      "  - The item sold with the highest sale value had a low quantity but indicates a significant revenue contributor.\n",
      "  - The majority of items appear to have reasonably low price points, suggesting they cater to more budget-conscious consumers.\n",
      "\n",
      "#### 4. **Impact of Promotion**\n",
      "- Only one SKU (6195800) is on promotion, which sold 3 units and generated approximately $25.72 in sales.\n",
      "  - This indicates that promotions may influence customer purchases, but given the overall context, it’s unclear how impactful this promotion was compared to non-promoted items since most sales were not initiated through promotions.\n",
      "\n",
      "#### 5. **Stock Levels**\n",
      "- Since all SKUs have sold, one can conclude that the stock availability was adequate for the products in demand on that day.\n",
      "- There are many unique SKUs, implying a diverse product offering which may satisfy various consumer preferences.\n",
      "\n",
      "### Conclusion\n",
      "Overall, the data denotes a straightforward sales snapshot for an individual store on a specific date, with indications of product diversity and consumer preferences. Popularity among certain product classes is present, with pricing strategies that cover both low and high-end products. The limited promotional activity suggests that more marketing or promotional strategies could potentially lead to increased sales volumes, especially for high-value items or those that might benefit from heightened visibility. \n",
      "\n",
      "To further validate these trends, further analysis over multiple days or comparing with additional store data would be beneficial for more comprehensive insights, especially regarding seasonal demand changes or promotional effectiveness.\n"
     ]
    }
   ],
   "source": [
    "print(analyze_sales_data(prompt=\"what trends do you see in this data\", \n",
    "                         data=example_data))"
   ]
  },
  {
   "cell_type": "code",
   "execution_count": 18,
   "id": "a03b760a-2c72-4556-9560-fa317042e09d",
   "metadata": {},
   "outputs": [],
   "source": [
    "# Define tools/functions that can be called by the model\n",
    "tools = [\n",
    "    {\n",
    "        \"type\": \"function\",\n",
    "        \"function\": {\n",
    "            \"name\": \"lookup_sales_data\",\n",
    "            \"description\": \"Look up data from Store Sales Price Elasticity Promotions dataset\",\n",
    "            \"parameters\": {\n",
    "                \"type\": \"object\",\n",
    "                \"properties\": {\n",
    "                    \"prompt\": {\"type\": \"string\", \"description\": \"The unchanged prompt that the user provided.\"}\n",
    "                },\n",
    "                \"required\": [\"prompt\"]\n",
    "            }\n",
    "        }\n",
    "    },\n",
    "    {\n",
    "        \"type\": \"function\",\n",
    "        \"function\": {\n",
    "            \"name\": \"analyze_sales_data\", \n",
    "            \"description\": \"Analyze sales data to extract insights\",\n",
    "            \"parameters\": {\n",
    "                \"type\": \"object\",\n",
    "                \"properties\": {\n",
    "                    \"data\": {\"type\": \"string\", \"description\": \"The lookup_sales_data tool's output.\"},\n",
    "                    \"prompt\": {\"type\": \"string\", \"description\": \"The unchanged prompt that the user provided.\"}\n",
    "                },\n",
    "                \"required\": [\"data\", \"prompt\"]\n",
    "            }\n",
    "        }\n",
    "    }\n",
    "]\n",
    "\n",
    "# Dictionary mapping function names to their implementations\n",
    "tool_implementations = {\n",
    "    \"lookup_sales_data\": lookup_sales_data,\n",
    "    \"analyze_sales_data\": analyze_sales_data\n",
    "}"
   ]
  },
  {
   "cell_type": "code",
   "execution_count": 19,
   "id": "b94ef5c5-33d6-4bea-be28-1a166f7eeb0d",
   "metadata": {},
   "outputs": [],
   "source": [
    "# code for executing the tools returned in the model's response\n",
    "@tracer.chain()\n",
    "def handle_tool_calls(tool_calls, messages):\n",
    "\n",
    "    for tool_call in tool_calls:   \n",
    "        function = tool_implementations[tool_call.function.name]\n",
    "        function_args = json.loads(tool_call.function.arguments)\n",
    "        result = function(**function_args)\n",
    "        messages.append({\"role\": \"tool\", \"content\": result, \"tool_call_id\": tool_call.id})\n",
    "        \n",
    "    return messages"
   ]
  },
  {
   "cell_type": "code",
   "execution_count": 20,
   "id": "e5d39359-3148-4870-bacd-832728083204",
   "metadata": {},
   "outputs": [],
   "source": [
    "SYSTEM_PROMPT = \"\"\"\n",
    "You are a helpful assistant that can answer questions about the Store Sales Price Elasticity Promotions dataset.\n",
    "\"\"\""
   ]
  },
  {
   "cell_type": "code",
   "execution_count": 21,
   "id": "b369d2b0-c7e5-41eb-a929-065a1b3c1392",
   "metadata": {},
   "outputs": [],
   "source": [
    "def run_agent(messages):\n",
    "    print(\"Running agent with messages:\", messages)\n",
    "\n",
    "    if isinstance(messages, str):\n",
    "        messages = [{\"role\": \"user\", \"content\": messages}]\n",
    "        \n",
    "    # Check and add system prompt if needed\n",
    "    if not any(\n",
    "            isinstance(message, dict) and message.get(\"role\") == \"system\" for message in messages\n",
    "        ):\n",
    "            system_prompt = {\"role\": \"system\", \"content\": SYSTEM_PROMPT}\n",
    "            messages.append(system_prompt)\n",
    "\n",
    "    while True:\n",
    "        print(\"Making router call to OpenAI\")\n",
    "        response = client.chat.completions.create(\n",
    "            model=MODEL,\n",
    "            messages=messages,\n",
    "            tools=tools,\n",
    "        )\n",
    "        messages.append(response.choices[0].message)\n",
    "        tool_calls = response.choices[0].message.tool_calls\n",
    "        print(\"Received response with tool calls:\", bool(tool_calls))\n",
    "\n",
    "        # if the model decides to call function(s), call handle_tool_calls\n",
    "        if tool_calls:\n",
    "            print(\"Processing tool calls\")\n",
    "            messages = handle_tool_calls(tool_calls, messages)\n",
    "        else:\n",
    "            print(\"No tool calls, returning final response\")\n",
    "            return response.choices[0].message.content"
   ]
  },
  {
   "cell_type": "code",
   "execution_count": 22,
   "id": "97991980-2342-4fb2-a9cd-3240694d45a7",
   "metadata": {},
   "outputs": [
    {
     "name": "stdout",
     "output_type": "stream",
     "text": [
      "Running agent with messages: show me sales for top-10 (by sales) stores\n",
      "Making router call to OpenAI\n",
      "Received response with tool calls: True\n",
      "Processing tool calls\n",
      "Making router call to OpenAI\n",
      "Received response with tool calls: False\n",
      "No tool calls, returning final response\n"
     ]
    }
   ],
   "source": [
    "result = run_agent('show me sales for top-10 (by sales) stores')"
   ]
  },
  {
   "cell_type": "code",
   "execution_count": 23,
   "id": "df43bc3e-26b5-490c-b234-f30226e84ee1",
   "metadata": {},
   "outputs": [
    {
     "data": {
      "text/markdown": [
       "Here are the sales figures for the top 10 stores by total sales:\n",
       "\n",
       "| Store Number | Total Sales      |\n",
       "|--------------|------------------|\n",
       "| 2970         | $836,341.33      |\n",
       "| 3300         | $619,660.17      |\n",
       "| 1320         | $592,832.07      |\n",
       "| 1650         | $580,443.01      |\n",
       "| 1210         | $508,393.77      |\n",
       "| 1100         | $497,509.53      |\n",
       "| 3080         | $495,458.24      |\n",
       "| 2750         | $453,664.81      |\n",
       "| 1540         | $427,777.43      |\n",
       "| 880          | $420,302.09      |"
      ],
      "text/plain": [
       "<IPython.core.display.Markdown object>"
      ]
     },
     "execution_count": 23,
     "metadata": {},
     "output_type": "execute_result"
    }
   ],
   "source": [
    "#print(result)\n",
    "# you can also print a formatted version of the result\n",
    "Markdown(result)"
   ]
  },
  {
   "cell_type": "code",
   "execution_count": null,
   "id": "48111c00-a736-40f8-a4cd-f4f50dc4b171",
   "metadata": {},
   "outputs": [],
   "source": []
  },
  {
   "cell_type": "code",
   "execution_count": null,
   "id": "6c84b6be-5b15-4e6e-b41f-b14b8594a6d2",
   "metadata": {},
   "outputs": [],
   "source": []
  }
 ],
 "metadata": {
  "kernelspec": {
   "display_name": "Python 3 (ipykernel)",
   "language": "python",
   "name": "python3"
  },
  "language_info": {
   "codemirror_mode": {
    "name": "ipython",
    "version": 3
   },
   "file_extension": ".py",
   "mimetype": "text/x-python",
   "name": "python",
   "nbconvert_exporter": "python",
   "pygments_lexer": "ipython3",
   "version": "3.11.11"
  }
 },
 "nbformat": 4,
 "nbformat_minor": 5
}
