{
 "cells": [
  {
   "cell_type": "code",
   "execution_count": 1,
   "id": "506943c8-465f-4cf3-8410-2d1690b46327",
   "metadata": {},
   "outputs": [],
   "source": [
    "\n",
    "import os\n",
    "from openai import OpenAI\n",
    "import pandas as pd\n",
    "import json\n",
    "import duckdb\n",
    "from pydantic import BaseModel, Field\n",
    "from IPython.display import Markdown\n",
    "from dotenv import load_dotenv\n"
   ]
  },
  {
   "cell_type": "code",
   "execution_count": 2,
   "id": "f8eb54c5-bec5-46c6-9f19-e62ecc8efe85",
   "metadata": {},
   "outputs": [],
   "source": [
    "from langsmith.wrappers import wrap_openai\n",
    "from langsmith import traceable"
   ]
  },
  {
   "cell_type": "code",
   "execution_count": 3,
   "id": "067e5f05-25aa-4391-9647-5392c8e1966b",
   "metadata": {},
   "outputs": [],
   "source": [
    "# initialize the OpenAI client\n",
    "load_dotenv()\n",
    "openai_api_key = os.environ.get(\"OPENAI_API_KEY\")\n",
    "\n",
    "client = wrap_openai(OpenAI(api_key=openai_api_key))\n",
    "\n",
    "MODEL = \"gpt-4o-mini\"\n",
    "\n"
   ]
  },
  {
   "cell_type": "code",
   "execution_count": 4,
   "id": "c87644de-ae6e-42f2-97bf-2bad8b35654a",
   "metadata": {},
   "outputs": [],
   "source": [
    "# define the path to the transactional data\n",
    "TRANSACTION_DATA_FILE_PATH = 'Store_Sales_Price_Elasticity_Promotions_Data.parquet'"
   ]
  },
  {
   "cell_type": "code",
   "execution_count": 5,
   "id": "42518afc-845d-4c7f-a024-00b99194cc92",
   "metadata": {},
   "outputs": [],
   "source": [
    "# prompt template for step 2 of tool 1\n",
    "SQL_GENERATION_PROMPT = \"\"\"\n",
    "Generate an SQL query based on a prompt. Do not reply with anything besides the SQL query.\n",
    "The prompt is: {prompt}\n",
    "\n",
    "The available columns are: {columns}\n",
    "The table name is: {table_name}\n",
    "\"\"\""
   ]
  },
  {
   "cell_type": "code",
   "execution_count": 6,
   "id": "3dc303ce-ba4f-47d5-aaea-067e5ed39a17",
   "metadata": {},
   "outputs": [],
   "source": [
    "# code for step 2 of tool 1\n",
    "@traceable\n",
    "def generate_sql_query(prompt: str, columns: list, table_name: str) -> str:\n",
    "    \"\"\"Generate an SQL query based on a prompt\"\"\"\n",
    "    formatted_prompt = SQL_GENERATION_PROMPT.format(prompt=prompt, \n",
    "                                                    columns=columns, \n",
    "                                                    table_name=table_name)\n",
    "\n",
    "    response = client.chat.completions.create(\n",
    "        model=MODEL,\n",
    "        messages=[{\"role\": \"user\", \"content\": formatted_prompt}],\n",
    "    )\n",
    "    \n",
    "    return response.choices[0].message.content"
   ]
  },
  {
   "cell_type": "code",
   "execution_count": 7,
   "id": "7daa2b3a-a9d1-4a7b-9436-65e5ef3cc7e7",
   "metadata": {},
   "outputs": [],
   "source": [
    "# code for tool 1\n",
    "@traceable\n",
    "def lookup_sales_data(prompt: str) -> str:\n",
    "    \"\"\"Implementation of sales data lookup from parquet file using SQL\"\"\"\n",
    "    try:\n",
    "\n",
    "        # define the table name\n",
    "        table_name = \"sales\"\n",
    "        \n",
    "        # step 1: read the parquet file into a DuckDB table\n",
    "        df = pd.read_parquet(TRANSACTION_DATA_FILE_PATH)\n",
    "        duckdb.sql(f\"CREATE TABLE IF NOT EXISTS {table_name} AS SELECT * FROM df\")\n",
    "\n",
    "        # step 2: generate the SQL code\n",
    "        sql_query = generate_sql_query(prompt, df.columns, table_name)\n",
    "        # clean the response to make sure it only includes the SQL code\n",
    "        sql_query = sql_query.strip()\n",
    "        sql_query = sql_query.replace(\"```sql\", \"\").replace(\"```\", \"\")\n",
    "        \n",
    "        # step 3: execute the SQL query\n",
    "        result = duckdb.sql(sql_query).df()\n",
    "        \n",
    "        return result.to_string()\n",
    "    except Exception as e:\n",
    "        return f\"Error accessing data: {str(e)}\""
   ]
  },
  {
   "cell_type": "code",
   "execution_count": 8,
   "id": "d4a7ab53-412d-4066-89cd-692a7adaa832",
   "metadata": {},
   "outputs": [
    {
     "name": "stdout",
     "output_type": "stream",
     "text": [
      "    Store_Number  SKU_Coded  Product_Class_Code  Sold_Date  Qty_Sold  Total_Sale_Value  On_Promo\n",
      "0           1320    6173050               22875 2021-11-01         1          4.990000         0\n",
      "1           1320    6174250               22875 2021-11-01         1          0.890000         0\n",
      "2           1320    6176200               22975 2021-11-01         2         99.980003         0\n",
      "3           1320    6176800               22800 2021-11-01         1         14.970000         0\n",
      "4           1320    6177250               22975 2021-11-01         1          6.890000         0\n",
      "5           1320    6177300               22800 2021-11-01         1          9.990000         0\n",
      "6           1320    6177350               22800 2021-11-01         2         16.980000         0\n",
      "7           1320    6177700               22875 2021-11-01         1          3.190000         0\n",
      "8           1320    6178000               22875 2021-11-01         2          6.380000         0\n",
      "9           1320    6178250               22800 2021-11-01         1         16.590000         0\n",
      "10          1320    6179250               24400 2021-11-01         1         14.990000         0\n",
      "11          1320    6179300               22800 2021-11-01         2          9.980000         0\n",
      "12          1320    6179400               24400 2021-11-01         2         29.980000         0\n",
      "13          1320    6179450               24400 2021-11-01         1         14.990000         0\n",
      "14          1320    6179500               24400 2021-11-01         1         14.990000         0\n",
      "15          1320    6179750               22800 2021-11-01         2         39.980000         0\n",
      "16          1320    6180550               22975 2021-11-01         1         15.990000         0\n",
      "17          1320    6182050               22975 2021-11-01         1          7.990000         0\n",
      "18          1320    6183750               22850 2021-11-01         3         38.970001         0\n",
      "19          1320    6184100               22975 2021-11-01         3         59.970001         0\n",
      "20          1320    6188550               22950 2021-11-01         2         15.980000         0\n",
      "21          1320    6190050               24425 2021-11-01         5         19.950001         0\n",
      "22          1320    6190150               24425 2021-11-01         1          8.990000         0\n",
      "23          1320    6190200               24425 2021-11-01         1          8.990000         0\n",
      "24          1320    6190250               24425 2021-11-01         1          7.990000         0\n",
      "25          1320    6190350               22950 2021-11-01         1          6.990000         0\n",
      "26          1320    6190400               22950 2021-11-01         1          6.990000         0\n",
      "27          1320    6193750               22875 2021-11-01         1          6.990000         0\n",
      "28          1320    6195350               24375 2021-11-01         1         16.990000         0\n",
      "29          1320    6195800               22850 2021-11-01         3         25.719999         1\n"
     ]
    }
   ],
   "source": [
    "example_data = lookup_sales_data(\"Show me all the sales for store 1320 on November 1st, 2021\")\n",
    "print(example_data)"
   ]
  },
  {
   "cell_type": "code",
   "execution_count": 9,
   "id": "a6447af6-ab20-4011-a46a-aa97da20a162",
   "metadata": {},
   "outputs": [],
   "source": [
    "# Construct prompt based on analysis type and data subset\n",
    "DATA_ANALYSIS_PROMPT = \"\"\"\n",
    "Analyze the following data: {data}\n",
    "Your job is to answer the following question: {prompt}\n",
    "\"\"\""
   ]
  },
  {
   "cell_type": "code",
   "execution_count": 10,
   "id": "0c0f158b-13da-4e83-aca7-568a2b735e08",
   "metadata": {},
   "outputs": [],
   "source": [
    "# code for tool 2\n",
    "@traceable\n",
    "\n",
    "def analyze_sales_data(prompt: str, data: str) -> str:\n",
    "    \"\"\"Implementation of AI-powered sales data analysis\"\"\"\n",
    "    formatted_prompt = DATA_ANALYSIS_PROMPT.format(data=data, prompt=prompt)\n",
    "\n",
    "    response = client.chat.completions.create(\n",
    "        model=MODEL,\n",
    "        messages=[{\"role\": \"user\", \"content\": formatted_prompt}],\n",
    "    )\n",
    "    \n",
    "    analysis = response.choices[0].message.content\n",
    "    return analysis if analysis else \"No analysis could be generated\""
   ]
  },
  {
   "cell_type": "code",
   "execution_count": 11,
   "id": "977168e3-25ba-4886-8007-fb99d1eeaf6d",
   "metadata": {},
   "outputs": [
    {
     "name": "stdout",
     "output_type": "stream",
     "text": [
      "Based on the provided dataset, which includes sales data recorded on a single day (November 1, 2021) from a single store (Store_Number 1320), we can derive several trends and observations:\n",
      "\n",
      "### 1. **Sales Performance by SKU:**\n",
      "   - **Popular Categories:** The dataset shows various `Product_Class_Code` values, indicating different product categories. The products sold vary widely in sale value, price points, and quantities.\n",
      "   - **High-Value Sales:** Some products, such as SKU `6176200` (Product Class `22975`), show high total sale values, likely indicating that they are either high-priced products or sold in larger quantities.\n",
      "\n",
      "### 2. **Sales Volume and Quantity:**\n",
      "   - There are multiple entries for products sold in different quantities (e.g., SKU `6190050` had the highest quantity sold at 5). This indicates some preference for certain products over others.\n",
      "   - Certain products, like SKU `6183750` and `6184100`, also sold with higher quantities (3 each), indicating they are market favorites for that day.\n",
      "\n",
      "### 3. **Pricing Insights:**\n",
      "   - The total sale values vary significantly, ranging from very low (around $0.89) to higher values (around $99.98). This suggests a mix of low-margin and high-margin products in this store's inventory.\n",
      "   - Products with lower prices ($0.89 and below $10) might indicate more staple or consumable items, whereas higher-priced products may indicate specialty or premium items.\n",
      "   \n",
      "### 4. **Promotional Impact:**\n",
      "   - The `On_Promo` flag indicates whether a product was sold at a promotional price. In this dataset, one SKU (SKU `6195800`) was marked as on promotion, and it sold well (3 units) with a total sale value of $25.72.\n",
      "   - This suggests that promotional pricing could have a significant impact on sales behavior, though further data would be needed to analyze how effective these promotions are in driving higher sales volumes overall.\n",
      "\n",
      "### 5. **Product Class and Variance:**\n",
      "   - The dataset includes four main product classes: 22875, 22800, 22975, and 24400, suggesting a variety across categories. \n",
      "   - Product class `24425` showed multiple individual sales but relatively lower quantities sold per product, indicating that either these are low-demand products or niche items.\n",
      "\n",
      "### 6. **Sales Strategy Recommendations:**\n",
      "   - Evaluating the higher-performing SKUs could provide insights on consumer preferences, informing supply and inventory decisions.\n",
      "   - Further analysis on promotional performance could guide future marketing strategies, optionally including extensive promotions on best-selling items.\n",
      "\n",
      "### 7. **Single-Day Trends:**\n",
      "   - Overall, the analysis reveals a varied product mix on a single day, and while it provides insights on preferences and price sensitivity, the data may not fully represent broader trends over time. For a more robust analysis, it would be beneficial to look at sales over a more extended period and across multiple store locations to identify patterns and adjust strategies accordingly. \n",
      "\n",
      "In conclusion, the data offers insights into sales volume by SKU, the impact of pricing, promotional effectiveness, and varied product categories but would benefit from more extensive temporal analysis for comprehensive trend recognition.\n"
     ]
    }
   ],
   "source": [
    "print(analyze_sales_data(prompt=\"what trends do you see in this data\", \n",
    "                         data=example_data))"
   ]
  },
  {
   "cell_type": "code",
   "execution_count": 12,
   "id": "a03b760a-2c72-4556-9560-fa317042e09d",
   "metadata": {},
   "outputs": [],
   "source": [
    "# Define tools/functions that can be called by the model\n",
    "tools = [\n",
    "    {\n",
    "        \"type\": \"function\",\n",
    "        \"function\": {\n",
    "            \"name\": \"lookup_sales_data\",\n",
    "            \"description\": \"Look up data from Store Sales Price Elasticity Promotions dataset\",\n",
    "            \"parameters\": {\n",
    "                \"type\": \"object\",\n",
    "                \"properties\": {\n",
    "                    \"prompt\": {\"type\": \"string\", \"description\": \"The unchanged prompt that the user provided.\"}\n",
    "                },\n",
    "                \"required\": [\"prompt\"]\n",
    "            }\n",
    "        }\n",
    "    },\n",
    "    {\n",
    "        \"type\": \"function\",\n",
    "        \"function\": {\n",
    "            \"name\": \"analyze_sales_data\", \n",
    "            \"description\": \"Analyze sales data to extract insights\",\n",
    "            \"parameters\": {\n",
    "                \"type\": \"object\",\n",
    "                \"properties\": {\n",
    "                    \"data\": {\"type\": \"string\", \"description\": \"The lookup_sales_data tool's output.\"},\n",
    "                    \"prompt\": {\"type\": \"string\", \"description\": \"The unchanged prompt that the user provided.\"}\n",
    "                },\n",
    "                \"required\": [\"data\", \"prompt\"]\n",
    "            }\n",
    "        }\n",
    "    }\n",
    "]\n",
    "\n",
    "# Dictionary mapping function names to their implementations\n",
    "tool_implementations = {\n",
    "    \"lookup_sales_data\": lookup_sales_data,\n",
    "    \"analyze_sales_data\": analyze_sales_data\n",
    "}"
   ]
  },
  {
   "cell_type": "code",
   "execution_count": 13,
   "id": "b94ef5c5-33d6-4bea-be28-1a166f7eeb0d",
   "metadata": {},
   "outputs": [],
   "source": [
    "# code for executing the tools returned in the model's response\n",
    "@traceable\n",
    "def handle_tool_calls(tool_calls, messages):\n",
    "\n",
    "    for tool_call in tool_calls:   \n",
    "        function = tool_implementations[tool_call.function.name]\n",
    "        function_args = json.loads(tool_call.function.arguments)\n",
    "        result = function(**function_args)\n",
    "        messages.append({\"role\": \"tool\", \"content\": result, \"tool_call_id\": tool_call.id})\n",
    "        \n",
    "    return messages"
   ]
  },
  {
   "cell_type": "code",
   "execution_count": 14,
   "id": "e5d39359-3148-4870-bacd-832728083204",
   "metadata": {},
   "outputs": [],
   "source": [
    "SYSTEM_PROMPT = \"\"\"\n",
    "You are a helpful assistant that can answer questions about the Store Sales Price Elasticity Promotions dataset.\n",
    "\"\"\""
   ]
  },
  {
   "cell_type": "code",
   "execution_count": 15,
   "id": "b369d2b0-c7e5-41eb-a929-065a1b3c1392",
   "metadata": {},
   "outputs": [],
   "source": [
    "def run_agent(messages):\n",
    "    print(\"Running agent with messages:\", messages)\n",
    "\n",
    "    if isinstance(messages, str):\n",
    "        messages = [{\"role\": \"user\", \"content\": messages}]\n",
    "        \n",
    "    # Check and add system prompt if needed\n",
    "    if not any(\n",
    "            isinstance(message, dict) and message.get(\"role\") == \"system\" for message in messages\n",
    "        ):\n",
    "            system_prompt = {\"role\": \"system\", \"content\": SYSTEM_PROMPT}\n",
    "            messages.append(system_prompt)\n",
    "\n",
    "    while True:\n",
    "        print(\"Making router call to OpenAI\")\n",
    "        response = client.chat.completions.create(\n",
    "            model=MODEL,\n",
    "            messages=messages,\n",
    "            tools=tools,\n",
    "        )\n",
    "        messages.append(response.choices[0].message)\n",
    "        tool_calls = response.choices[0].message.tool_calls\n",
    "        print(\"Received response with tool calls:\", bool(tool_calls))\n",
    "\n",
    "        # if the model decides to call function(s), call handle_tool_calls\n",
    "        if tool_calls:\n",
    "            print(\"Processing tool calls\")\n",
    "            messages = handle_tool_calls(tool_calls, messages)\n",
    "        else:\n",
    "            print(\"No tool calls, returning final response\")\n",
    "            return response.choices[0].message.content"
   ]
  },
  {
   "cell_type": "code",
   "execution_count": 16,
   "id": "97991980-2342-4fb2-a9cd-3240694d45a7",
   "metadata": {},
   "outputs": [
    {
     "name": "stdout",
     "output_type": "stream",
     "text": [
      "Running agent with messages: show me sales for top-10 (by sales) stores\n",
      "Making router call to OpenAI\n",
      "Received response with tool calls: True\n",
      "Processing tool calls\n",
      "Making router call to OpenAI\n",
      "Received response with tool calls: False\n",
      "No tool calls, returning final response\n"
     ]
    }
   ],
   "source": [
    "result = run_agent('show me sales for top-10 (by sales) stores')"
   ]
  },
  {
   "cell_type": "code",
   "execution_count": 17,
   "id": "df43bc3e-26b5-490c-b234-f30226e84ee1",
   "metadata": {},
   "outputs": [
    {
     "data": {
      "text/markdown": [
       "Here are the total sales for the top 10 stores:\n",
       "\n",
       "| Store Number | Total Sales      |\n",
       "|--------------|------------------|\n",
       "| 2970         | $836,341.33      |\n",
       "| 3300         | $619,660.17      |\n",
       "| 1320         | $592,832.07      |\n",
       "| 1650         | $580,443.01      |\n",
       "| 1210         | $508,393.77      |\n",
       "| 1100         | $497,509.53      |\n",
       "| 3080         | $495,458.24      |\n",
       "| 2750         | $453,664.81      |\n",
       "| 1540         | $427,777.43      |\n",
       "| 880          | $420,302.09      |\n",
       "\n",
       "If you need more information or further analysis, feel free to ask!"
      ],
      "text/plain": [
       "<IPython.core.display.Markdown object>"
      ]
     },
     "execution_count": 17,
     "metadata": {},
     "output_type": "execute_result"
    }
   ],
   "source": [
    "#print(result)\n",
    "# you can also print a formatted version of the result\n",
    "Markdown(result)"
   ]
  },
  {
   "cell_type": "code",
   "execution_count": null,
   "id": "48111c00-a736-40f8-a4cd-f4f50dc4b171",
   "metadata": {},
   "outputs": [],
   "source": []
  }
 ],
 "metadata": {
  "kernelspec": {
   "display_name": "Python 3 (ipykernel)",
   "language": "python",
   "name": "python3"
  },
  "language_info": {
   "codemirror_mode": {
    "name": "ipython",
    "version": 3
   },
   "file_extension": ".py",
   "mimetype": "text/x-python",
   "name": "python",
   "nbconvert_exporter": "python",
   "pygments_lexer": "ipython3",
   "version": "3.11.11"
  }
 },
 "nbformat": 4,
 "nbformat_minor": 5
}
